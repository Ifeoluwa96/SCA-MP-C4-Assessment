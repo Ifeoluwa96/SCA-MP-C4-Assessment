{
 "cells": [
  {
   "cell_type": "markdown",
   "id": "narrow-exhaust",
   "metadata": {},
   "source": [
    "# Ifeoluwa\n",
    "# Week 1 Assignment: \n",
    "## Question 1. \n",
    "Guess The Number: Write a program where the computer randomly generates a number between 0 and 20. The user needs to guess what the number is. If the user guesses wrong, tell them their guess is either too high or too low. \n"
   ]
  },
  {
   "cell_type": "code",
   "execution_count": 1,
   "id": "nervous-refrigerator",
   "metadata": {},
   "outputs": [],
   "source": [
    "import numpy as np\n",
    "import random"
   ]
  },
  {
   "cell_type": "code",
   "execution_count": 2,
   "id": "modified-discharge",
   "metadata": {},
   "outputs": [
    {
     "name": "stdin",
     "output_type": "stream",
     "text": [
      "Guess a number between 1 and 20 until the number is correct :  1\n"
     ]
    },
    {
     "name": "stdout",
     "output_type": "stream",
     "text": [
      "Guess is too low!\n"
     ]
    },
    {
     "name": "stdin",
     "output_type": "stream",
     "text": [
      "Guess a number between 1 and 20 until the number is correct :  15\n"
     ]
    },
    {
     "name": "stdout",
     "output_type": "stream",
     "text": [
      "Guess is too high!\n"
     ]
    },
    {
     "name": "stdin",
     "output_type": "stream",
     "text": [
      "Guess a number between 1 and 20 until the number is correct :  10\n"
     ]
    },
    {
     "name": "stdout",
     "output_type": "stream",
     "text": [
      "Guess is too low!\n"
     ]
    },
    {
     "name": "stdin",
     "output_type": "stream",
     "text": [
      "Guess a number between 1 and 20 until the number is correct :  13\n"
     ]
    },
    {
     "name": "stdout",
     "output_type": "stream",
     "text": [
      "Guess is too high!\n"
     ]
    },
    {
     "name": "stdin",
     "output_type": "stream",
     "text": [
      "Guess a number between 1 and 20 until the number is correct :  12\n"
     ]
    },
    {
     "name": "stdout",
     "output_type": "stream",
     "text": [
      "Guess is too high!\n"
     ]
    },
    {
     "name": "stdin",
     "output_type": "stream",
     "text": [
      "Guess a number between 1 and 20 until the number is correct :  11\n"
     ]
    },
    {
     "name": "stdout",
     "output_type": "stream",
     "text": [
      "Guess is correct!\n"
     ]
    }
   ],
   "source": [
    "# create a variable of selected_num for a random numbers between 1 and 20\n",
    "# create a variable of guess_num to be unknown(0) \n",
    "selected_num = random.randint(1, 20)\n",
    "guess_num =  0\n",
    "\n",
    "#create a while loop to indicate selected_num is not equal to  guess_num.\n",
    "while selected_num != guess_num:\n",
    "    guess_num = int(input('Guess a number between 1 and 20 until the number is correct : '))\n",
    "\n",
    "#create conditional statements of if, elif and else to signiify whether the guess_num is too high, low or correct.\n",
    "    if guess_num > selected_num:\n",
    "        print('Guess is too high!')\n",
    "    elif guess_num < selected_num:\n",
    "        print('Guess is too low!')\n",
    "    else:\n",
    "        print('Guess is correct!')"
   ]
  },
  {
   "cell_type": "code",
   "execution_count": null,
   "id": "municipal-branch",
   "metadata": {},
   "outputs": [],
   "source": []
  },
  {
   "cell_type": "markdown",
   "id": "impaired-catering",
   "metadata": {},
   "source": [
    "## Question 2.\n",
    "Password Generator: Write a program, which generates a random password for the user. Ask the user how long they want their password to be, and how many letters and numbers they want in their password. Have a mix of upper and lowercase letters, as well as numbers and symbols. The password should be a minimum of 6 characters long."
   ]
  },
  {
   "cell_type": "code",
   "execution_count": 3,
   "id": "outstanding-cruise",
   "metadata": {},
   "outputs": [],
   "source": [
    "import string"
   ]
  },
  {
   "cell_type": "code",
   "execution_count": 4,
   "id": "atlantic-burst",
   "metadata": {},
   "outputs": [
    {
     "name": "stdout",
     "output_type": "stream",
     "text": [
      "Hi, kindly generate your password! \n"
     ]
    },
    {
     "name": "stdin",
     "output_type": "stream",
     "text": [
      "signify length of password?:  6\n",
      "How many digits should your password include?:  2\n",
      "How many letters should your password include?:  3\n",
      "How many punctuation should your password include?:  1\n"
     ]
    },
    {
     "name": "stdout",
     "output_type": "stream",
     "text": [
      "60&dLP\n"
     ]
    }
   ],
   "source": [
    "#This variable include numbers\n",
    "Numbers = string.digits\n",
    "\n",
    "# This variable includes uppercase and lowercase letters\n",
    "Letters = string.ascii_letters\n",
    "\n",
    "# This variable includes symbols\n",
    "Punctuation = \"!#$%&'()*+, -./:;<=>?@[\\]^_`{|}~\"\n",
    "\n",
    "# create a function 'message' to generate password\n",
    "def message():\n",
    "    print(\"Hi, kindly generate your password! \")\n",
    "    print(password_length())\n",
    "    \n",
    "#create a function 'password_length' to Ask the length of a password and return number with data type 'int'.    \n",
    "def password_length():\n",
    "    int(input(\"signify length of password?: \"))\n",
    "    return(password_details())\n",
    "\n",
    "#create a function 'password_details' to ask how many digits, letters and punctuation password should have\n",
    "def password_details():\n",
    "    password_num = int(input(\"How many digits should your password include?: \"))\n",
    "    password_letter = int(input(\"How many letters should your password include?: \"))\n",
    "    password_punc = int(input(\"How many punctuation should your password include?: \"))\n",
    "    return generate_password( password_num, password_letter, password_punc)\n",
    "\n",
    "#create a function 'generate_password' to generate random choice of num, punc and letter for password\n",
    "def generate_password( password_num, password_letter, password_punc):\n",
    "    new_password = \"\"\n",
    "    for n in range(password_num):\n",
    "        new_password +=random.choice(Numbers)\n",
    "    for p in range(password_punc):\n",
    "        new_password +=random.choice(Punctuation)\n",
    "    for l in range(password_letter):\n",
    "        new_password +=random.choice(Letters)\n",
    "\n",
    "    pass_word = list(new_password)\n",
    "    new = \"\".join(pass_word)\n",
    "    return new\n",
    "\n",
    "\n",
    "message()"
   ]
  },
  {
   "cell_type": "code",
   "execution_count": null,
   "id": "scenic-separation",
   "metadata": {},
   "outputs": [],
   "source": []
  }
 ],
 "metadata": {
  "kernelspec": {
   "display_name": "Python 3",
   "language": "python",
   "name": "python3"
  },
  "language_info": {
   "codemirror_mode": {
    "name": "ipython",
    "version": 3
   },
   "file_extension": ".py",
   "mimetype": "text/x-python",
   "name": "python",
   "nbconvert_exporter": "python",
   "pygments_lexer": "ipython3",
   "version": "3.8.2"
  }
 },
 "nbformat": 4,
 "nbformat_minor": 5
}
