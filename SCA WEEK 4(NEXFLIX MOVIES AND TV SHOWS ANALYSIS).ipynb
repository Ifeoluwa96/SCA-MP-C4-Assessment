{
 "cells": [
  {
   "cell_type": "markdown",
   "id": "genetic-lesson",
   "metadata": {},
   "source": [
    "# NEXFLIX MOVIES/TV SHOWS ANALYSIS\n",
    "\n",
    "This dataset consists of tv shows and movies available on Netflix as of 2019. The dataset is collected from flixable which is a third-party Netflix search engine and can be obtained from kaggle.\n",
    "\n",
    "Dataset at https://www.kaggle.com/shivamb/netflix-shows"
   ]
  },
  {
   "cell_type": "markdown",
   "id": "pressing-royalty",
   "metadata": {},
   "source": [
    "## NETFLIX ANALYSIS PROVIDES INSIGHTS ON THE FOLLOWING;\n",
    "\n",
    "1.\tAnalysis on the distribution of tv shows to movies\n",
    "2.\tTop 10 Genres of movies on Netflix. \n",
    "3.\tTop 10 Genres of tv shows on Netflix.\n",
    "4.\tTop 10 Countries as contributer to Netflix.\n",
    "5.\tAnalysis on Rating\n",
    "6.\tUnderstanding what content is available in different countries\n",
    "7.  Latest to oldest movies on Netflix\n",
    "8.  Distribution of movies/tv shows added to Netflix monthly and over the years\n",
    "9.\tDistribution of movies/tv shows released over the years on Netflix\n",
    "10. Netflix growth over the years(Licenced vs Original)\n"
   ]
  },
  {
   "cell_type": "code",
   "execution_count": null,
   "id": "grave-omaha",
   "metadata": {},
   "outputs": [],
   "source": []
  },
  {
   "cell_type": "code",
   "execution_count": 1,
   "id": "adolescent-europe",
   "metadata": {},
   "outputs": [],
   "source": [
    "#import necessary libraries\n",
    "import numpy as np\n",
    "import pandas as pd\n",
    "\n",
    "import matplotlib.pyplot as plt\n",
    "import seaborn as sns\n",
    "\n",
    "import os, sys\n",
    "import warnings\n",
    "warnings.filterwarnings('ignore')\n",
    "import pandas.util.testing as tm"
   ]
  },
  {
   "cell_type": "code",
   "execution_count": 2,
   "id": "correct-burns",
   "metadata": {},
   "outputs": [],
   "source": [
    "#import datasets\n",
    "data = pd.read_csv('/Users/wuraolaifeoluwa/Documents/Rasheed data doc /datasets/netflix_titles.csv')"
   ]
  },
  {
   "cell_type": "code",
   "execution_count": 3,
   "id": "intermediate-parliament",
   "metadata": {},
   "outputs": [
    {
     "data": {
      "text/plain": [
       "(7787, 12)"
      ]
     },
     "execution_count": 3,
     "metadata": {},
     "output_type": "execute_result"
    }
   ],
   "source": [
    "#check for shape of data\n",
    "data.shape"
   ]
  },
  {
   "cell_type": "code",
   "execution_count": 4,
   "id": "maritime-reviewer",
   "metadata": {},
   "outputs": [
    {
     "data": {
      "text/html": [
       "<div>\n",
       "<style scoped>\n",
       "    .dataframe tbody tr th:only-of-type {\n",
       "        vertical-align: middle;\n",
       "    }\n",
       "\n",
       "    .dataframe tbody tr th {\n",
       "        vertical-align: top;\n",
       "    }\n",
       "\n",
       "    .dataframe thead th {\n",
       "        text-align: right;\n",
       "    }\n",
       "</style>\n",
       "<table border=\"1\" class=\"dataframe\">\n",
       "  <thead>\n",
       "    <tr style=\"text-align: right;\">\n",
       "      <th></th>\n",
       "      <th>show_id</th>\n",
       "      <th>type</th>\n",
       "      <th>title</th>\n",
       "      <th>director</th>\n",
       "      <th>cast</th>\n",
       "      <th>country</th>\n",
       "      <th>date_added</th>\n",
       "      <th>release_year</th>\n",
       "      <th>rating</th>\n",
       "      <th>duration</th>\n",
       "      <th>listed_in</th>\n",
       "      <th>description</th>\n",
       "    </tr>\n",
       "  </thead>\n",
       "  <tbody>\n",
       "    <tr>\n",
       "      <th>0</th>\n",
       "      <td>s1</td>\n",
       "      <td>TV Show</td>\n",
       "      <td>3%</td>\n",
       "      <td>NaN</td>\n",
       "      <td>João Miguel, Bianca Comparato, Michel Gomes, R...</td>\n",
       "      <td>Brazil</td>\n",
       "      <td>August 14, 2020</td>\n",
       "      <td>2020</td>\n",
       "      <td>TV-MA</td>\n",
       "      <td>4 Seasons</td>\n",
       "      <td>International TV Shows, TV Dramas, TV Sci-Fi &amp;...</td>\n",
       "      <td>In a future where the elite inhabit an island ...</td>\n",
       "    </tr>\n",
       "    <tr>\n",
       "      <th>1</th>\n",
       "      <td>s2</td>\n",
       "      <td>Movie</td>\n",
       "      <td>7:19</td>\n",
       "      <td>Jorge Michel Grau</td>\n",
       "      <td>Demián Bichir, Héctor Bonilla, Oscar Serrano, ...</td>\n",
       "      <td>Mexico</td>\n",
       "      <td>December 23, 2016</td>\n",
       "      <td>2016</td>\n",
       "      <td>TV-MA</td>\n",
       "      <td>93 min</td>\n",
       "      <td>Dramas, International Movies</td>\n",
       "      <td>After a devastating earthquake hits Mexico Cit...</td>\n",
       "    </tr>\n",
       "    <tr>\n",
       "      <th>2</th>\n",
       "      <td>s3</td>\n",
       "      <td>Movie</td>\n",
       "      <td>23:59</td>\n",
       "      <td>Gilbert Chan</td>\n",
       "      <td>Tedd Chan, Stella Chung, Henley Hii, Lawrence ...</td>\n",
       "      <td>Singapore</td>\n",
       "      <td>December 20, 2018</td>\n",
       "      <td>2011</td>\n",
       "      <td>R</td>\n",
       "      <td>78 min</td>\n",
       "      <td>Horror Movies, International Movies</td>\n",
       "      <td>When an army recruit is found dead, his fellow...</td>\n",
       "    </tr>\n",
       "    <tr>\n",
       "      <th>3</th>\n",
       "      <td>s4</td>\n",
       "      <td>Movie</td>\n",
       "      <td>9</td>\n",
       "      <td>Shane Acker</td>\n",
       "      <td>Elijah Wood, John C. Reilly, Jennifer Connelly...</td>\n",
       "      <td>United States</td>\n",
       "      <td>November 16, 2017</td>\n",
       "      <td>2009</td>\n",
       "      <td>PG-13</td>\n",
       "      <td>80 min</td>\n",
       "      <td>Action &amp; Adventure, Independent Movies, Sci-Fi...</td>\n",
       "      <td>In a postapocalyptic world, rag-doll robots hi...</td>\n",
       "    </tr>\n",
       "    <tr>\n",
       "      <th>4</th>\n",
       "      <td>s5</td>\n",
       "      <td>Movie</td>\n",
       "      <td>21</td>\n",
       "      <td>Robert Luketic</td>\n",
       "      <td>Jim Sturgess, Kevin Spacey, Kate Bosworth, Aar...</td>\n",
       "      <td>United States</td>\n",
       "      <td>January 1, 2020</td>\n",
       "      <td>2008</td>\n",
       "      <td>PG-13</td>\n",
       "      <td>123 min</td>\n",
       "      <td>Dramas</td>\n",
       "      <td>A brilliant group of students become card-coun...</td>\n",
       "    </tr>\n",
       "  </tbody>\n",
       "</table>\n",
       "</div>"
      ],
      "text/plain": [
       "  show_id     type  title           director  \\\n",
       "0      s1  TV Show     3%                NaN   \n",
       "1      s2    Movie   7:19  Jorge Michel Grau   \n",
       "2      s3    Movie  23:59       Gilbert Chan   \n",
       "3      s4    Movie      9        Shane Acker   \n",
       "4      s5    Movie     21     Robert Luketic   \n",
       "\n",
       "                                                cast        country  \\\n",
       "0  João Miguel, Bianca Comparato, Michel Gomes, R...         Brazil   \n",
       "1  Demián Bichir, Héctor Bonilla, Oscar Serrano, ...         Mexico   \n",
       "2  Tedd Chan, Stella Chung, Henley Hii, Lawrence ...      Singapore   \n",
       "3  Elijah Wood, John C. Reilly, Jennifer Connelly...  United States   \n",
       "4  Jim Sturgess, Kevin Spacey, Kate Bosworth, Aar...  United States   \n",
       "\n",
       "          date_added  release_year rating   duration  \\\n",
       "0    August 14, 2020          2020  TV-MA  4 Seasons   \n",
       "1  December 23, 2016          2016  TV-MA     93 min   \n",
       "2  December 20, 2018          2011      R     78 min   \n",
       "3  November 16, 2017          2009  PG-13     80 min   \n",
       "4    January 1, 2020          2008  PG-13    123 min   \n",
       "\n",
       "                                           listed_in  \\\n",
       "0  International TV Shows, TV Dramas, TV Sci-Fi &...   \n",
       "1                       Dramas, International Movies   \n",
       "2                Horror Movies, International Movies   \n",
       "3  Action & Adventure, Independent Movies, Sci-Fi...   \n",
       "4                                             Dramas   \n",
       "\n",
       "                                         description  \n",
       "0  In a future where the elite inhabit an island ...  \n",
       "1  After a devastating earthquake hits Mexico Cit...  \n",
       "2  When an army recruit is found dead, his fellow...  \n",
       "3  In a postapocalyptic world, rag-doll robots hi...  \n",
       "4  A brilliant group of students become card-coun...  "
      ]
     },
     "execution_count": 4,
     "metadata": {},
     "output_type": "execute_result"
    }
   ],
   "source": [
    "#view first 5 columns of the dataset\n",
    "data.head()"
   ]
  },
  {
   "cell_type": "markdown",
   "id": "random-stopping",
   "metadata": {},
   "source": [
    "In this data set, there are 12 features.\n",
    "\n",
    "show_id = Unique ID for every Movie / TV Show\n",
    "\n",
    "type = Identifier - A Movie / TV Show\n",
    "\n",
    "title = Title of Movie / TV Show\n",
    "\n",
    "director = Director of the Movie\n",
    "\n",
    "cast = Actors involved in the Movie / TV Show\n",
    "\n",
    "country = Country where the Movie / TV Show was produced\n",
    "\n",
    "data_added = Date it was added on Netflix\n",
    "\n",
    "release_year = Actual Release year of the Movie / TV Show\n",
    "\n",
    "rating = TV Rating of the Movie / TV Show\n",
    "\n",
    "duration = Total Duration - in minutes or number of seasons\n",
    "\n",
    "Let's overview each feature and figure out how to use them to visualization."
   ]
  },
  {
   "cell_type": "code",
   "execution_count": 5,
   "id": "rocky-florence",
   "metadata": {},
   "outputs": [
    {
     "name": "stdout",
     "output_type": "stream",
     "text": [
      "<class 'pandas.core.frame.DataFrame'>\n",
      "RangeIndex: 7787 entries, 0 to 7786\n",
      "Data columns (total 12 columns):\n",
      " #   Column        Non-Null Count  Dtype \n",
      "---  ------        --------------  ----- \n",
      " 0   show_id       7787 non-null   object\n",
      " 1   type          7787 non-null   object\n",
      " 2   title         7787 non-null   object\n",
      " 3   director      5398 non-null   object\n",
      " 4   cast          7069 non-null   object\n",
      " 5   country       7280 non-null   object\n",
      " 6   date_added    7777 non-null   object\n",
      " 7   release_year  7787 non-null   int64 \n",
      " 8   rating        7780 non-null   object\n",
      " 9   duration      7787 non-null   object\n",
      " 10  listed_in     7787 non-null   object\n",
      " 11  description   7787 non-null   object\n",
      "dtypes: int64(1), object(11)\n",
      "memory usage: 730.2+ KB\n"
     ]
    }
   ],
   "source": [
    "data.info()"
   ]
  },
  {
   "cell_type": "markdown",
   "id": "documentary-medium",
   "metadata": {},
   "source": [
    "## EXPLORATORY DATA ANALYSIS"
   ]
  },
  {
   "cell_type": "markdown",
   "id": "intermediate-scholar",
   "metadata": {},
   "source": [
    "## FEATURE ENGINEERING AND DATA CLEANING"
   ]
  },
  {
   "cell_type": "code",
   "execution_count": 6,
   "id": "acknowledged-cartoon",
   "metadata": {},
   "outputs": [
    {
     "data": {
      "text/plain": [
       "True"
      ]
     },
     "execution_count": 6,
     "metadata": {},
     "output_type": "execute_result"
    }
   ],
   "source": [
    "#check for null values\n",
    "data.isnull().values.any()"
   ]
  },
  {
   "cell_type": "code",
   "execution_count": 7,
   "id": "intelligent-halloween",
   "metadata": {},
   "outputs": [
    {
     "data": {
      "text/plain": [
       "show_id            0\n",
       "type               0\n",
       "title              0\n",
       "director        2389\n",
       "cast             718\n",
       "country          507\n",
       "date_added        10\n",
       "release_year       0\n",
       "rating             7\n",
       "duration           0\n",
       "listed_in          0\n",
       "description        0\n",
       "dtype: int64"
      ]
     },
     "execution_count": 7,
     "metadata": {},
     "output_type": "execute_result"
    }
   ],
   "source": [
    "data.isnull().sum()"
   ]
  },
  {
   "cell_type": "code",
   "execution_count": 8,
   "id": "considerable-mandate",
   "metadata": {},
   "outputs": [
    {
     "data": {
      "image/png": "[encoded data removed]",
      "text/plain": [
       "<Figure size 1080x576 with 2 Axes>"
      ]
     },
     "metadata": {
      "needs_background": "light"
     },
     "output_type": "display_data"
    }
   ],
   "source": [
    "#lets visualize the missing values\n",
    "plt.figure(figsize = (15,8))\n",
    "\n",
    "sns.heatmap(data.isnull(),cmap = 'Reds')\n",
    "plt.title('Null Values Heatmap')\n",
    "plt.show()"
   ]
  },
  {
   "cell_type": "markdown",
   "id": "preliminary-foster",
   "metadata": {},
   "source": [
    "There are a few columns that contain null values ('director', 'cast', 'country', 'date_added', 'rating')."
   ]
  },
  {
   "cell_type": "code",
   "execution_count": 9,
   "id": "smart-education",
   "metadata": {},
   "outputs": [],
   "source": [
    "#we drop the 'director' and 'cast' column\n",
    "data = data.drop(['director', 'cast'], axis = 1)"
   ]
  },
  {
   "cell_type": "markdown",
   "id": "sunset-plaza",
   "metadata": {},
   "source": [
    "## RATING"
   ]
  },
  {
   "cell_type": "code",
   "execution_count": 10,
   "id": "owned-ceiling",
   "metadata": {},
   "outputs": [
    {
     "data": {
      "text/plain": [
       "'TV-MA'"
      ]
     },
     "execution_count": 10,
     "metadata": {},
     "output_type": "execute_result"
    }
   ],
   "source": [
    "#since its a categorical data, I will fill the missing values with the 'mode' i.e most occuring \n",
    "data['rating'].mode()[0]"
   ]
  },
  {
   "cell_type": "code",
   "execution_count": 11,
   "id": "found-centre",
   "metadata": {},
   "outputs": [],
   "source": [
    "data['rating'] = data.rating.fillna(data['rating'].mode()[0])"
   ]
  },
  {
   "cell_type": "markdown",
   "id": "awful-monitor",
   "metadata": {},
   "source": [
    "## DATE"
   ]
  },
  {
   "cell_type": "code",
   "execution_count": 14,
   "id": "latter-confidence",
   "metadata": {},
   "outputs": [
    {
     "data": {
      "text/plain": [
       "array(['August 14, 2020', 'December 23, 2016', 'December 20, 2018', ...,\n",
       "       'December 6, 2018', 'March 9, 2016', 'January 11, 2020'],\n",
       "      dtype=object)"
      ]
     },
     "execution_count": 14,
     "metadata": {},
     "output_type": "execute_result"
    }
   ],
   "source": [
    "data['date_added'].unique()"
   ]
  },
  {
   "cell_type": "code",
   "execution_count": 15,
   "id": "japanese-homework",
   "metadata": {},
   "outputs": [],
   "source": [
    "# use forward fill method to fill missing values in the 'date_added' datasets\n",
    "data['date_added'] = data.date_added.fillna(method ='ffill')"
   ]
  },
  {
   "cell_type": "markdown",
   "id": "closed-drilling",
   "metadata": {},
   "source": [
    "# COUNTRY"
   ]
  },
  {
   "cell_type": "code",
   "execution_count": 16,
   "id": "individual-renewal",
   "metadata": {},
   "outputs": [
    {
     "data": {
      "text/plain": [
       "'United States'"
      ]
     },
     "execution_count": 16,
     "metadata": {},
     "output_type": "execute_result"
    }
   ],
   "source": [
    "data['country'].mode()[0]"
   ]
  },
  {
   "cell_type": "code",
   "execution_count": 17,
   "id": "homeless-courtesy",
   "metadata": {},
   "outputs": [],
   "source": [
    "data['country'] = data.country.fillna(data['country'].mode()[0])"
   ]
  },
  {
   "cell_type": "markdown",
   "id": "crazy-dinner",
   "metadata": {},
   "source": [
    "## Drop columns not needed ('description')"
   ]
  },
  {
   "cell_type": "code",
   "execution_count": 18,
   "id": "outdoor-tunisia",
   "metadata": {},
   "outputs": [],
   "source": [
    "#drop columns not needed\n",
    "data = data.drop(['description'], axis = 1)"
   ]
  },
  {
   "cell_type": "markdown",
   "id": "lightweight-qatar",
   "metadata": {},
   "source": [
    "## Rename columns 'listed_in' to 'Genre'"
   ]
  },
  {
   "cell_type": "code",
   "execution_count": 60,
   "id": "iraqi-costume",
   "metadata": {},
   "outputs": [],
   "source": [
    "#rename columns\n",
    "data.rename(columns = {'listed_in' : 'Genre',}, inplace = True)"
   ]
  },
  {
   "cell_type": "code",
   "execution_count": 19,
   "id": "retired-strap",
   "metadata": {},
   "outputs": [
    {
     "name": "stdout",
     "output_type": "stream",
     "text": [
      "<class 'pandas.core.frame.DataFrame'>\n",
      "RangeIndex: 7787 entries, 0 to 7786\n",
      "Data columns (total 9 columns):\n",
      " #   Column        Non-Null Count  Dtype \n",
      "---  ------        --------------  ----- \n",
      " 0   show_id       7787 non-null   object\n",
      " 1   type          7787 non-null   object\n",
      " 2   title         7787 non-null   object\n",
      " 3   country       7787 non-null   object\n",
      " 4   date_added    7787 non-null   object\n",
      " 5   release_year  7787 non-null   int64 \n",
      " 6   rating        7787 non-null   object\n",
      " 7   duration      7787 non-null   object\n",
      " 8   Genre         7787 non-null   object\n",
      "dtypes: int64(1), object(8)\n",
      "memory usage: 547.6+ KB\n"
     ]
    }
   ],
   "source": [
    "data.info()"
   ]
  },
  {
   "cell_type": "code",
   "execution_count": 20,
   "id": "wooden-solomon",
   "metadata": {},
   "outputs": [
    {
     "data": {
      "text/plain": [
       "show_id         0\n",
       "type            0\n",
       "title           0\n",
       "country         0\n",
       "date_added      0\n",
       "release_year    0\n",
       "rating          0\n",
       "duration        0\n",
       "Genre           0\n",
       "dtype: int64"
      ]
     },
     "execution_count": 20,
     "metadata": {},
     "output_type": "execute_result"
    }
   ],
   "source": [
    "data.isnull().sum()"
   ]
  },
  {
   "cell_type": "markdown",
   "id": "concerned-vancouver",
   "metadata": {},
   "source": [
    "I used describe() on the data to get the summary of numeric values along with analytical data like min, max, standard deviation, count, and percentage slabs. "
   ]
  },
  {
   "cell_type": "code",
   "execution_count": 21,
   "id": "supported-tender",
   "metadata": {},
   "outputs": [
    {
     "data": {
      "text/html": [
       "<div>\n",
       "<style scoped>\n",
       "    .dataframe tbody tr th:only-of-type {\n",
       "        vertical-align: middle;\n",
       "    }\n",
       "\n",
       "    .dataframe tbody tr th {\n",
       "        vertical-align: top;\n",
       "    }\n",
       "\n",
       "    .dataframe thead th {\n",
       "        text-align: right;\n",
       "    }\n",
       "</style>\n",
       "<table border=\"1\" class=\"dataframe\">\n",
       "  <thead>\n",
       "    <tr style=\"text-align: right;\">\n",
       "      <th></th>\n",
       "      <th>release_year</th>\n",
       "    </tr>\n",
       "  </thead>\n",
       "  <tbody>\n",
       "    <tr>\n",
       "      <th>count</th>\n",
       "      <td>7787.000000</td>\n",
       "    </tr>\n",
       "    <tr>\n",
       "      <th>mean</th>\n",
       "      <td>2013.932580</td>\n",
       "    </tr>\n",
       "    <tr>\n",
       "      <th>std</th>\n",
       "      <td>8.757395</td>\n",
       "    </tr>\n",
       "    <tr>\n",
       "      <th>min</th>\n",
       "      <td>1925.000000</td>\n",
       "    </tr>\n",
       "    <tr>\n",
       "      <th>25%</th>\n",
       "      <td>2013.000000</td>\n",
       "    </tr>\n",
       "    <tr>\n",
       "      <th>50%</th>\n",
       "      <td>2017.000000</td>\n",
       "    </tr>\n",
       "    <tr>\n",
       "      <th>75%</th>\n",
       "      <td>2018.000000</td>\n",
       "    </tr>\n",
       "    <tr>\n",
       "      <th>max</th>\n",
       "      <td>2021.000000</td>\n",
       "    </tr>\n",
       "  </tbody>\n",
       "</table>\n",
       "</div>"
      ],
      "text/plain": [
       "       release_year\n",
       "count   7787.000000\n",
       "mean    2013.932580\n",
       "std        8.757395\n",
       "min     1925.000000\n",
       "25%     2013.000000\n",
       "50%     2017.000000\n",
       "75%     2018.000000\n",
       "max     2021.000000"
      ]
     },
     "execution_count": 21,
     "metadata": {},
     "output_type": "execute_result"
    }
   ],
   "source": [
    "data.describe()"
   ]
  },
  {
   "cell_type": "markdown",
   "id": "twelve-nebraska",
   "metadata": {},
   "source": [
    "Since, describe() will skip analysis information if column's datatype is string, I extracted column names that are strings to get their statistical analysis such as count, unique, top and frequency."
   ]
  },
  {
   "cell_type": "code",
   "execution_count": 22,
   "id": "coated-january",
   "metadata": {},
   "outputs": [
    {
     "data": {
      "text/html": [
       "<div>\n",
       "<style scoped>\n",
       "    .dataframe tbody tr th:only-of-type {\n",
       "        vertical-align: middle;\n",
       "    }\n",
       "\n",
       "    .dataframe tbody tr th {\n",
       "        vertical-align: top;\n",
       "    }\n",
       "\n",
       "    .dataframe thead th {\n",
       "        text-align: right;\n",
       "    }\n",
       "</style>\n",
       "<table border=\"1\" class=\"dataframe\">\n",
       "  <thead>\n",
       "    <tr style=\"text-align: right;\">\n",
       "      <th></th>\n",
       "      <th>count</th>\n",
       "      <th>unique</th>\n",
       "      <th>top</th>\n",
       "      <th>freq</th>\n",
       "    </tr>\n",
       "  </thead>\n",
       "  <tbody>\n",
       "    <tr>\n",
       "      <th>type</th>\n",
       "      <td>7787</td>\n",
       "      <td>2</td>\n",
       "      <td>Movie</td>\n",
       "      <td>5377</td>\n",
       "    </tr>\n",
       "    <tr>\n",
       "      <th>title</th>\n",
       "      <td>7787</td>\n",
       "      <td>7787</td>\n",
       "      <td>Black Lightning</td>\n",
       "      <td>1</td>\n",
       "    </tr>\n",
       "    <tr>\n",
       "      <th>country</th>\n",
       "      <td>7787</td>\n",
       "      <td>681</td>\n",
       "      <td>United States</td>\n",
       "      <td>3062</td>\n",
       "    </tr>\n",
       "    <tr>\n",
       "      <th>date_added</th>\n",
       "      <td>7787</td>\n",
       "      <td>1565</td>\n",
       "      <td>January 1, 2020</td>\n",
       "      <td>118</td>\n",
       "    </tr>\n",
       "    <tr>\n",
       "      <th>rating</th>\n",
       "      <td>7787</td>\n",
       "      <td>14</td>\n",
       "      <td>TV-MA</td>\n",
       "      <td>2870</td>\n",
       "    </tr>\n",
       "    <tr>\n",
       "      <th>duration</th>\n",
       "      <td>7787</td>\n",
       "      <td>216</td>\n",
       "      <td>1 Season</td>\n",
       "      <td>1608</td>\n",
       "    </tr>\n",
       "    <tr>\n",
       "      <th>Genre</th>\n",
       "      <td>7787</td>\n",
       "      <td>492</td>\n",
       "      <td>Documentaries</td>\n",
       "      <td>334</td>\n",
       "    </tr>\n",
       "  </tbody>\n",
       "</table>\n",
       "</div>"
      ],
      "text/plain": [
       "           count unique              top  freq\n",
       "type        7787      2            Movie  5377\n",
       "title       7787   7787  Black Lightning     1\n",
       "country     7787    681    United States  3062\n",
       "date_added  7787   1565  January 1, 2020   118\n",
       "rating      7787     14            TV-MA  2870\n",
       "duration    7787    216         1 Season  1608\n",
       "Genre       7787    492    Documentaries   334"
      ]
     },
     "execution_count": 22,
     "metadata": {},
     "output_type": "execute_result"
    }
   ],
   "source": [
    "stats = data[['type','title','country','date_added','rating','duration','Genre']].describe().T\n",
    "stats"
   ]
  },
  {
   "cell_type": "code",
   "execution_count": 23,
   "id": "sustained-regular",
   "metadata": {},
   "outputs": [
    {
     "data": {
      "text/html": [
       "<div>\n",
       "<style scoped>\n",
       "    .dataframe tbody tr th:only-of-type {\n",
       "        vertical-align: middle;\n",
       "    }\n",
       "\n",
       "    .dataframe tbody tr th {\n",
       "        vertical-align: top;\n",
       "    }\n",
       "\n",
       "    .dataframe thead th {\n",
       "        text-align: right;\n",
       "    }\n",
       "</style>\n",
       "<table border=\"1\" class=\"dataframe\">\n",
       "  <thead>\n",
       "    <tr style=\"text-align: right;\">\n",
       "      <th></th>\n",
       "      <th>show_id</th>\n",
       "      <th>type</th>\n",
       "      <th>title</th>\n",
       "      <th>country</th>\n",
       "      <th>date_added</th>\n",
       "      <th>release_year</th>\n",
       "      <th>rating</th>\n",
       "      <th>duration</th>\n",
       "      <th>Genre</th>\n",
       "    </tr>\n",
       "  </thead>\n",
       "  <tbody>\n",
       "    <tr>\n",
       "      <th>0</th>\n",
       "      <td>s1</td>\n",
       "      <td>TV Show</td>\n",
       "      <td>3%</td>\n",
       "      <td>Brazil</td>\n",
       "      <td>August 14, 2020</td>\n",
       "      <td>2020</td>\n",
       "      <td>TV-MA</td>\n",
       "      <td>4 Seasons</td>\n",
       "      <td>International TV Shows, TV Dramas, TV Sci-Fi &amp;...</td>\n",
       "    </tr>\n",
       "    <tr>\n",
       "      <th>1</th>\n",
       "      <td>s2</td>\n",
       "      <td>Movie</td>\n",
       "      <td>7:19</td>\n",
       "      <td>Mexico</td>\n",
       "      <td>December 23, 2016</td>\n",
       "      <td>2016</td>\n",
       "      <td>TV-MA</td>\n",
       "      <td>93 min</td>\n",
       "      <td>Dramas, International Movies</td>\n",
       "    </tr>\n",
       "    <tr>\n",
       "      <th>2</th>\n",
       "      <td>s3</td>\n",
       "      <td>Movie</td>\n",
       "      <td>23:59</td>\n",
       "      <td>Singapore</td>\n",
       "      <td>December 20, 2018</td>\n",
       "      <td>2011</td>\n",
       "      <td>R</td>\n",
       "      <td>78 min</td>\n",
       "      <td>Horror Movies, International Movies</td>\n",
       "    </tr>\n",
       "    <tr>\n",
       "      <th>3</th>\n",
       "      <td>s4</td>\n",
       "      <td>Movie</td>\n",
       "      <td>9</td>\n",
       "      <td>United States</td>\n",
       "      <td>November 16, 2017</td>\n",
       "      <td>2009</td>\n",
       "      <td>PG-13</td>\n",
       "      <td>80 min</td>\n",
       "      <td>Action &amp; Adventure, Independent Movies, Sci-Fi...</td>\n",
       "    </tr>\n",
       "    <tr>\n",
       "      <th>4</th>\n",
       "      <td>s5</td>\n",
       "      <td>Movie</td>\n",
       "      <td>21</td>\n",
       "      <td>United States</td>\n",
       "      <td>January 1, 2020</td>\n",
       "      <td>2008</td>\n",
       "      <td>PG-13</td>\n",
       "      <td>123 min</td>\n",
       "      <td>Dramas</td>\n",
       "    </tr>\n",
       "  </tbody>\n",
       "</table>\n",
       "</div>"
      ],
      "text/plain": [
       "  show_id     type  title        country         date_added  release_year  \\\n",
       "0      s1  TV Show     3%         Brazil    August 14, 2020          2020   \n",
       "1      s2    Movie   7:19         Mexico  December 23, 2016          2016   \n",
       "2      s3    Movie  23:59      Singapore  December 20, 2018          2011   \n",
       "3      s4    Movie      9  United States  November 16, 2017          2009   \n",
       "4      s5    Movie     21  United States    January 1, 2020          2008   \n",
       "\n",
       "  rating   duration                                              Genre  \n",
       "0  TV-MA  4 Seasons  International TV Shows, TV Dramas, TV Sci-Fi &...  \n",
       "1  TV-MA     93 min                       Dramas, International Movies  \n",
       "2      R     78 min                Horror Movies, International Movies  \n",
       "3  PG-13     80 min  Action & Adventure, Independent Movies, Sci-Fi...  \n",
       "4  PG-13    123 min                                             Dramas  "
      ]
     },
     "execution_count": 23,
     "metadata": {},
     "output_type": "execute_result"
    }
   ],
   "source": [
    "data.head()"
   ]
  },
  {
   "cell_type": "markdown",
   "id": "confident-compound",
   "metadata": {},
   "source": [
    "# VISUALIZATION"
   ]
  },
  {
   "cell_type": "markdown",
   "id": "constitutional-latin",
   "metadata": {},
   "source": [
    "## Analysis on the distribution of tv shows to movies"
   ]
  },
  {
   "cell_type": "code",
   "execution_count": 62,
   "id": "specified-fiber",
   "metadata": {},
   "outputs": [
    {
     "name": "stdout",
     "output_type": "stream",
     "text": [
      "Movie      5377\n",
      "TV Show    2410\n",
      "Name: type, dtype: int64\n"
     ]
    },
    {
     "data": {
      "image/png": "[encoded data removed]",
      "text/plain": [
       "<Figure size 1080x504 with 1 Axes>"
      ]
     },
     "metadata": {},
     "output_type": "display_data"
    }
   ],
   "source": [
    "print(data['type'].value_counts())\n",
    "plt.figure(figsize = (15,7))\n",
    "\n",
    "plt.pie(data['type'].value_counts(),\n",
    "       labels = [ 'Movie', 'TV Show'],\n",
    "       colors = ['c','r'],\n",
    "       shadow = True,\n",
    "        explode = (0,0.08),\n",
    "        autopct ='%1.1f%%',\n",
    "        labeldistance = 1.1\n",
    "       )\n",
    "\n",
    "plt.legend(['Movie', 'TV Show'])\n",
    "plt.title('Distribution of TV Show to Movie')\n",
    "plt.show() "
   ]
  },
  {
   "cell_type": "markdown",
   "id": "familiar-thesis",
   "metadata": {},
   "source": [
    "Observation\n",
    "\n",
    "This shows that Movie has a higher viewers rate of 69.1% to TV Shows with a rate 30.9%. Clearly users explore more Movies than TV Shows on Netflix.  This is because that it for a longer time, has users end up spending more time on Netflix and zest to watch more movie develops."
   ]
  },
  {
   "cell_type": "markdown",
   "id": "driven-posting",
   "metadata": {},
   "source": [
    "## Top 10 Genres of movies on Netflix. "
   ]
  },
  {
   "cell_type": "code",
   "execution_count": 25,
   "id": "spiritual-reconstruction",
   "metadata": {},
   "outputs": [],
   "source": [
    "#extracting tv shows and movies from the type column\n",
    "data_show = data[data[\"type\"] == \"TV Show\"]\n",
    "\n",
    "data_Movie = data[data[\"type\"] == \"Movie\"]"
   ]
  },
  {
   "cell_type": "code",
   "execution_count": 26,
   "id": "operational-carbon",
   "metadata": {},
   "outputs": [
    {
     "name": "stdout",
     "output_type": "stream",
     "text": [
      "Documentaries                                       334\n",
      "Stand-Up Comedy                                     321\n",
      "Dramas, International Movies                        320\n",
      "Comedies, Dramas, International Movies              243\n",
      "Dramas, Independent Movies, International Movies    215\n",
      "Children & Family Movies                            177\n",
      "Documentaries, International Movies                 172\n",
      "Children & Family Movies, Comedies                  169\n",
      "Comedies, International Movies                      161\n",
      "Dramas, International Movies, Romantic Movies       153\n",
      "Name: Genre, dtype: int64\n"
     ]
    },
    {
     "data": {
      "image/png": "[encoded data removed]",
      "text/plain": [
       "<Figure size 864x432 with 1 Axes>"
      ]
     },
     "metadata": {
      "needs_background": "light"
     },
     "output_type": "display_data"
    }
   ],
   "source": [
    "print(data_Movie[\"Genre\"].value_counts()[:10])\n",
    "plt.figure(figsize=(12,6))\n",
    "sns.countplot(y='Genre',data = data_Movie, order = data_Movie[\"Genre\"].value_counts().index[0:10],palette=\"pastel\")\n",
    "\n",
    "plt.title(\"Top 10 Genres of Movies\",size=18)\n",
    "plt.show()"
   ]
  },
  {
   "cell_type": "markdown",
   "id": "popular-packet",
   "metadata": {},
   "source": [
    "Observation\n",
    "\n",
    "The shows that documentaries (334) have the highest genre rate of movies users explore on Netflix, followed by stand-up comedy (321) and Dramas, International Movies (320)."
   ]
  },
  {
   "cell_type": "markdown",
   "id": "talented-anaheim",
   "metadata": {},
   "source": [
    "## Top 10 Genres of TV shows on Netflix. "
   ]
  },
  {
   "cell_type": "code",
   "execution_count": 63,
   "id": "front-picnic",
   "metadata": {},
   "outputs": [
    {
     "name": "stdout",
     "output_type": "stream",
     "text": [
      "Kids' TV                                                      205\n",
      "International TV Shows, TV Dramas                             111\n",
      "Crime TV Shows, International TV Shows, TV Dramas             106\n",
      "Kids' TV, TV Comedies                                          90\n",
      "International TV Shows, Romantic TV Shows, TV Dramas           86\n",
      "Reality TV                                                     83\n",
      "International TV Shows, Romantic TV Shows, TV Comedies         79\n",
      "Anime Series, International TV Shows                           75\n",
      "Docuseries                                                     74\n",
      "International TV Shows, Korean TV Shows, Romantic TV Shows     65\n",
      "Name: Genre, dtype: int64\n"
     ]
    },
    {
     "data": {
      "image/png": "[encoded data removed]",
      "text/plain": [
       "<Figure size 864x432 with 1 Axes>"
      ]
     },
     "metadata": {
      "needs_background": "light"
     },
     "output_type": "display_data"
    }
   ],
   "source": [
    "print(data_show[\"Genre\"].value_counts()[:10])\n",
    "plt.figure(figsize=(12,6))\n",
    "sns.countplot(y = 'Genre',data = data_show, order = data_show[\"Genre\"].value_counts().index[0:10], palette=\"pastel\")\n",
    "\n",
    "plt.title(\"Top 10 Genres of TV Shows\", size=18)\n",
    "plt.show()"
   ]
  },
  {
   "cell_type": "markdown",
   "id": "rotary-compound",
   "metadata": {},
   "source": [
    "Observation\n",
    "\n",
    "The shows that Kids' TV (205) has the highest genre rate of TV Shows users explore on Netflix, followed by International TV Shows, TV Dramas (111), and Crime TV Shows (106)."
   ]
  },
  {
   "cell_type": "markdown",
   "id": "caring-console",
   "metadata": {},
   "source": [
    "## Top 10 Countries as contributer to netflix."
   ]
  },
  {
   "cell_type": "code",
   "execution_count": 29,
   "id": "whole-brook",
   "metadata": {},
   "outputs": [
    {
     "data": {
      "image/png": "[encoded data removed]",
      "text/plain": [
       "<Figure size 1440x936 with 1 Axes>"
      ]
     },
     "metadata": {},
     "output_type": "display_data"
    }
   ],
   "source": [
    "plt.figure(figsize=(20,13))\n",
    "\n",
    "plt.pie(data['country'].value_counts()[:10],\n",
    "        labels = ['United State', 'Indian', 'United Kingdom', 'Japan','South Korea','Canada', 'Spain','France','Egypt','Mexico'],\n",
    "        shadow = True,\n",
    "        labeldistance = 1.1,\n",
    "        startangle = 40,\n",
    "        explode = (0,0,0.1,0,0,0,0,0,0,0),\n",
    "        autopct ='%1.1f%%')\n",
    "\n",
    "plt.legend(['United State', 'Indian', 'United Kingdom', 'Japan','South Korea','Canada', 'Spain','France','Egypt','Mexico'])\n",
    "plt.title('Top countries as contributor to Netflix')\n",
    "plt.show()"
   ]
  },
  {
   "cell_type": "markdown",
   "id": "amino-evaluation",
   "metadata": {},
   "source": [
    "Observation\n",
    "\n",
    "The United States has the highest contributor followed by Indian with 17.0% and United Kingdom with 7.3%. The United States has a major stake with 56.5% of shows on Netflix. This is because Netflix is owned by the United State."
   ]
  },
  {
   "cell_type": "markdown",
   "id": "wicked-flood",
   "metadata": {},
   "source": [
    "## Distribution of the type of movies/tv shows watched in the top country contributors"
   ]
  },
  {
   "cell_type": "code",
   "execution_count": 30,
   "id": "proud-raleigh",
   "metadata": {},
   "outputs": [
    {
     "name": "stdout",
     "output_type": "stream",
     "text": [
      "United States     3062\n",
      "India              923\n",
      "United Kingdom     397\n",
      "Japan              226\n",
      "South Korea        183\n",
      "Name: country, dtype: int64\n"
     ]
    },
    {
     "data": {
      "image/png": "[encoded data removed]",
      "text/plain": [
       "<Figure size 1440x432 with 1 Axes>"
      ]
     },
     "metadata": {
      "needs_background": "light"
     },
     "output_type": "display_data"
    }
   ],
   "source": [
    "print(data[\"country\"].value_counts().head())\n",
    "plt.figure(figsize=(20,6))\n",
    "sns.countplot(x= \"country\",data= data,hue= \"type\",order = data['country'].value_counts().index[0:15])\n",
    "plt.xticks(rotation = 45)\n",
    "plt.show()"
   ]
  },
  {
   "cell_type": "markdown",
   "id": "destroyed-leeds",
   "metadata": {},
   "source": [
    "OBSERVATION\n",
    "\n",
    "Unsurprisingly, the United States stands out in both movies and tv shows because Netflix is an American company. India surprisingly ranks second in the film, followed by the UK. This result shows movies are mostly viewed in countries contributing to Netflix than Tv shows."
   ]
  },
  {
   "cell_type": "markdown",
   "id": "interpreted-aruba",
   "metadata": {},
   "source": [
    "## Analysis on Rating"
   ]
  },
  {
   "cell_type": "code",
   "execution_count": 31,
   "id": "bottom-student",
   "metadata": {},
   "outputs": [
    {
     "data": {
      "text/plain": [
       "<AxesSubplot:xlabel='rating', ylabel='count'>"
      ]
     },
     "execution_count": 31,
     "metadata": {},
     "output_type": "execute_result"
    },
    {
     "data": {
      "image/png": "[encoded data removed]",
      "text/plain": [
       "<Figure size 1080x504 with 1 Axes>"
      ]
     },
     "metadata": {
      "needs_background": "light"
     },
     "output_type": "display_data"
    }
   ],
   "source": [
    "plt.figure(figsize=(15,7))\n",
    "sns.countplot('rating', data=data)"
   ]
  },
  {
   "cell_type": "markdown",
   "id": "seeing-coaching",
   "metadata": {},
   "source": [
    "Observation\n",
    "\n",
    "1 -Programming rated TV-MA in the United States by the TV Parental Guidelines signifies content for mature audiences.\n",
    "\n",
    "2 -Programming rated TV-14 in the United States TV Parental Guidelines signifies content with parents strongly cautioned. Content may be inappropriate for children younger than 14 years of age.\n",
    "\n",
    "3 -An R-rated film is a film that has been assessed as having material that may be unsuitable for children under the age of 17.\n",
    "\n",
    "The plot above shows that Programming rated TV-MA has the highest rate, programming rated TV-14 ranks second followed by R-rated film. We can conclude from the findings that Netflix majorly comprises movies and tv shows rated TV-MA, TV-14, and R-rated films.\n"
   ]
  },
  {
   "cell_type": "markdown",
   "id": "false-norman",
   "metadata": {},
   "source": [
    "## Distribution of rating and movies/tv shows"
   ]
  },
  {
   "cell_type": "code",
   "execution_count": 32,
   "id": "biblical-coating",
   "metadata": {},
   "outputs": [
    {
     "data": {
      "image/png": "[encoded data removed]",
      "text/plain": [
       "<Figure size 864x576 with 1 Axes>"
      ]
     },
     "metadata": {
      "needs_background": "light"
     },
     "output_type": "display_data"
    }
   ],
   "source": [
    "plt.figure(figsize = (12,8))\n",
    "sns.countplot(x='rating', data = data, hue='type')\n",
    "plt.xlabel(\"Rating\")\n",
    "plt.ylabel(\"Total Count\")\n",
    "plt.show()"
   ]
  },
  {
   "cell_type": "markdown",
   "id": "dated-variety",
   "metadata": {},
   "source": [
    "observation\n",
    "\n",
    "From the plot, movies are mostly rated TV-MA and TV-14 than Tv shows. Unsurprisingly, all R-rated films are movies this is because most adults and humans older than 17 understand the context and content of movies than a child or teenager."
   ]
  },
  {
   "cell_type": "markdown",
   "id": "british-robin",
   "metadata": {},
   "source": [
    "# Understanding what content is available in different countries"
   ]
  },
  {
   "cell_type": "markdown",
   "id": "dietary-cabin",
   "metadata": {},
   "source": [
    "## Analysis on kids show"
   ]
  },
  {
   "cell_type": "code",
   "execution_count": 51,
   "id": "entire-miami",
   "metadata": {},
   "outputs": [
    {
     "data": {
      "text/html": [
       "<div>\n",
       "<style scoped>\n",
       "    .dataframe tbody tr th:only-of-type {\n",
       "        vertical-align: middle;\n",
       "    }\n",
       "\n",
       "    .dataframe tbody tr th {\n",
       "        vertical-align: top;\n",
       "    }\n",
       "\n",
       "    .dataframe thead th {\n",
       "        text-align: right;\n",
       "    }\n",
       "</style>\n",
       "<table border=\"1\" class=\"dataframe\">\n",
       "  <thead>\n",
       "    <tr style=\"text-align: right;\">\n",
       "      <th></th>\n",
       "      <th>title</th>\n",
       "      <th>country</th>\n",
       "      <th>release_year</th>\n",
       "    </tr>\n",
       "  </thead>\n",
       "  <tbody>\n",
       "    <tr>\n",
       "      <th>111</th>\n",
       "      <td>44 Cats</td>\n",
       "      <td>Italy</td>\n",
       "      <td>2018</td>\n",
       "    </tr>\n",
       "    <tr>\n",
       "      <th>276</th>\n",
       "      <td>Abby Hatcher</td>\n",
       "      <td>United States, Canada</td>\n",
       "      <td>2019</td>\n",
       "    </tr>\n",
       "    <tr>\n",
       "      <th>434</th>\n",
       "      <td>Alphablocks</td>\n",
       "      <td>United Kingdom</td>\n",
       "      <td>2014</td>\n",
       "    </tr>\n",
       "    <tr>\n",
       "      <th>598</th>\n",
       "      <td>Ask the StoryBots</td>\n",
       "      <td>United States</td>\n",
       "      <td>2019</td>\n",
       "    </tr>\n",
       "    <tr>\n",
       "      <th>706</th>\n",
       "      <td>Bal Ganesh</td>\n",
       "      <td>United States</td>\n",
       "      <td>2019</td>\n",
       "    </tr>\n",
       "    <tr>\n",
       "      <th>735</th>\n",
       "      <td>Barbie Dreamhouse Adventures</td>\n",
       "      <td>United States, Canada</td>\n",
       "      <td>2018</td>\n",
       "    </tr>\n",
       "    <tr>\n",
       "      <th>736</th>\n",
       "      <td>Barbie Dreamhouse Adventures: Go Team Roberts</td>\n",
       "      <td>United States</td>\n",
       "      <td>2020</td>\n",
       "    </tr>\n",
       "    <tr>\n",
       "      <th>760</th>\n",
       "      <td>Bat Pat</td>\n",
       "      <td>Italy</td>\n",
       "      <td>2016</td>\n",
       "    </tr>\n",
       "    <tr>\n",
       "      <th>779</th>\n",
       "      <td>Be-Be-Bears</td>\n",
       "      <td>Russia</td>\n",
       "      <td>2018</td>\n",
       "    </tr>\n",
       "    <tr>\n",
       "      <th>786</th>\n",
       "      <td>Beat Bugs</td>\n",
       "      <td>Australia, Canada</td>\n",
       "      <td>2018</td>\n",
       "    </tr>\n",
       "  </tbody>\n",
       "</table>\n",
       "</div>"
      ],
      "text/plain": [
       "                                             title                country  \\\n",
       "111                                        44 Cats                  Italy   \n",
       "276                                   Abby Hatcher  United States, Canada   \n",
       "434                                    Alphablocks         United Kingdom   \n",
       "598                              Ask the StoryBots          United States   \n",
       "706                                     Bal Ganesh          United States   \n",
       "735                   Barbie Dreamhouse Adventures  United States, Canada   \n",
       "736  Barbie Dreamhouse Adventures: Go Team Roberts          United States   \n",
       "760                                        Bat Pat                  Italy   \n",
       "779                                    Be-Be-Bears                 Russia   \n",
       "786                                      Beat Bugs      Australia, Canada   \n",
       "\n",
       "     release_year  \n",
       "111          2018  \n",
       "276          2019  \n",
       "434          2014  \n",
       "598          2019  \n",
       "706          2019  \n",
       "735          2018  \n",
       "736          2020  \n",
       "760          2016  \n",
       "779          2018  \n",
       "786          2018  "
      ]
     },
     "execution_count": 51,
     "metadata": {},
     "output_type": "execute_result"
    }
   ],
   "source": [
    "kids_show = data[data['Genre'] == \"Kids' TV\"]\n",
    "kids_show[['title','country','release_year']].head(10)"
   ]
  },
  {
   "cell_type": "markdown",
   "id": "fitting-subsection",
   "metadata": {},
   "source": [
    "## Analysis on Horror movies"
   ]
  },
  {
   "cell_type": "code",
   "execution_count": 52,
   "id": "acting-athens",
   "metadata": {},
   "outputs": [
    {
     "data": {
      "text/html": [
       "<div>\n",
       "<style scoped>\n",
       "    .dataframe tbody tr th:only-of-type {\n",
       "        vertical-align: middle;\n",
       "    }\n",
       "\n",
       "    .dataframe tbody tr th {\n",
       "        vertical-align: top;\n",
       "    }\n",
       "\n",
       "    .dataframe thead th {\n",
       "        text-align: right;\n",
       "    }\n",
       "</style>\n",
       "<table border=\"1\" class=\"dataframe\">\n",
       "  <thead>\n",
       "    <tr style=\"text-align: right;\">\n",
       "      <th></th>\n",
       "      <th>title</th>\n",
       "      <th>country</th>\n",
       "      <th>release_year</th>\n",
       "    </tr>\n",
       "  </thead>\n",
       "  <tbody>\n",
       "    <tr>\n",
       "      <th>261</th>\n",
       "      <td>A.M.I.</td>\n",
       "      <td>Canada</td>\n",
       "      <td>2019</td>\n",
       "    </tr>\n",
       "    <tr>\n",
       "      <th>417</th>\n",
       "      <td>All the Boys Love Mandy Lane</td>\n",
       "      <td>United States</td>\n",
       "      <td>2006</td>\n",
       "    </tr>\n",
       "    <tr>\n",
       "      <th>1551</th>\n",
       "      <td>Cult of Chucky</td>\n",
       "      <td>United States</td>\n",
       "      <td>2017</td>\n",
       "    </tr>\n",
       "    <tr>\n",
       "      <th>1654</th>\n",
       "      <td>Deadcon</td>\n",
       "      <td>United States</td>\n",
       "      <td>2019</td>\n",
       "    </tr>\n",
       "    <tr>\n",
       "      <th>1671</th>\n",
       "      <td>Death House</td>\n",
       "      <td>United States</td>\n",
       "      <td>2017</td>\n",
       "    </tr>\n",
       "    <tr>\n",
       "      <th>1673</th>\n",
       "      <td>Death of Me</td>\n",
       "      <td>United States, Thailand</td>\n",
       "      <td>2020</td>\n",
       "    </tr>\n",
       "    <tr>\n",
       "      <th>1811</th>\n",
       "      <td>Don't Be Afraid of the Dark</td>\n",
       "      <td>United States, Australia, Mexico</td>\n",
       "      <td>2010</td>\n",
       "    </tr>\n",
       "    <tr>\n",
       "      <th>1976</th>\n",
       "      <td>Eli</td>\n",
       "      <td>United States</td>\n",
       "      <td>2019</td>\n",
       "    </tr>\n",
       "    <tr>\n",
       "      <th>2104</th>\n",
       "      <td>Family Blood</td>\n",
       "      <td>United States</td>\n",
       "      <td>2018</td>\n",
       "    </tr>\n",
       "    <tr>\n",
       "      <th>2165</th>\n",
       "      <td>Final Destination 3</td>\n",
       "      <td>United States, Germany</td>\n",
       "      <td>2006</td>\n",
       "    </tr>\n",
       "  </tbody>\n",
       "</table>\n",
       "</div>"
      ],
      "text/plain": [
       "                             title                           country  \\\n",
       "261                         A.M.I.                            Canada   \n",
       "417   All the Boys Love Mandy Lane                     United States   \n",
       "1551                Cult of Chucky                     United States   \n",
       "1654                       Deadcon                     United States   \n",
       "1671                   Death House                     United States   \n",
       "1673                   Death of Me           United States, Thailand   \n",
       "1811   Don't Be Afraid of the Dark  United States, Australia, Mexico   \n",
       "1976                           Eli                     United States   \n",
       "2104                  Family Blood                     United States   \n",
       "2165           Final Destination 3            United States, Germany   \n",
       "\n",
       "      release_year  \n",
       "261           2019  \n",
       "417           2006  \n",
       "1551          2017  \n",
       "1654          2019  \n",
       "1671          2017  \n",
       "1673          2020  \n",
       "1811          2010  \n",
       "1976          2019  \n",
       "2104          2018  \n",
       "2165          2006  "
      ]
     },
     "execution_count": 52,
     "metadata": {},
     "output_type": "execute_result"
    }
   ],
   "source": [
    "Horror = data[data['Genre'] == 'Horror Movies']\n",
    "Horror[['title','country','release_year']].head(10)"
   ]
  },
  {
   "cell_type": "markdown",
   "id": "convinced-ceiling",
   "metadata": {},
   "source": [
    "## Analysis on Action and Adventure"
   ]
  },
  {
   "cell_type": "code",
   "execution_count": 53,
   "id": "demonstrated-shock",
   "metadata": {},
   "outputs": [
    {
     "data": {
      "text/html": [
       "<div>\n",
       "<style scoped>\n",
       "    .dataframe tbody tr th:only-of-type {\n",
       "        vertical-align: middle;\n",
       "    }\n",
       "\n",
       "    .dataframe tbody tr th {\n",
       "        vertical-align: top;\n",
       "    }\n",
       "\n",
       "    .dataframe thead th {\n",
       "        text-align: right;\n",
       "    }\n",
       "</style>\n",
       "<table border=\"1\" class=\"dataframe\">\n",
       "  <thead>\n",
       "    <tr style=\"text-align: right;\">\n",
       "      <th></th>\n",
       "      <th>title</th>\n",
       "      <th>country</th>\n",
       "      <th>release_year</th>\n",
       "    </tr>\n",
       "  </thead>\n",
       "  <tbody>\n",
       "    <tr>\n",
       "      <th>50</th>\n",
       "      <td>10,000 B.C.</td>\n",
       "      <td>United States, South Africa</td>\n",
       "      <td>2008</td>\n",
       "    </tr>\n",
       "    <tr>\n",
       "      <th>71</th>\n",
       "      <td>16 Blocks</td>\n",
       "      <td>United States, Germany</td>\n",
       "      <td>2006</td>\n",
       "    </tr>\n",
       "    <tr>\n",
       "      <th>89</th>\n",
       "      <td>24 Hours to Live</td>\n",
       "      <td>South Africa, China, United States</td>\n",
       "      <td>2017</td>\n",
       "    </tr>\n",
       "    <tr>\n",
       "      <th>96</th>\n",
       "      <td>3 Days to Kill</td>\n",
       "      <td>United States, France, Serbia</td>\n",
       "      <td>2014</td>\n",
       "    </tr>\n",
       "    <tr>\n",
       "      <th>298</th>\n",
       "      <td>Act of Valor</td>\n",
       "      <td>United States</td>\n",
       "      <td>2012</td>\n",
       "    </tr>\n",
       "    <tr>\n",
       "      <th>302</th>\n",
       "      <td>Acts of Violence</td>\n",
       "      <td>Canada</td>\n",
       "      <td>2018</td>\n",
       "    </tr>\n",
       "    <tr>\n",
       "      <th>419</th>\n",
       "      <td>All the Devil's Men</td>\n",
       "      <td>United Kingdom</td>\n",
       "      <td>2018</td>\n",
       "    </tr>\n",
       "    <tr>\n",
       "      <th>454</th>\n",
       "      <td>American Assassin</td>\n",
       "      <td>United States</td>\n",
       "      <td>2017</td>\n",
       "    </tr>\n",
       "    <tr>\n",
       "      <th>518</th>\n",
       "      <td>Angel Has Fallen</td>\n",
       "      <td>United States</td>\n",
       "      <td>2019</td>\n",
       "    </tr>\n",
       "    <tr>\n",
       "      <th>634</th>\n",
       "      <td>Avengement</td>\n",
       "      <td>United Kingdom</td>\n",
       "      <td>2019</td>\n",
       "    </tr>\n",
       "  </tbody>\n",
       "</table>\n",
       "</div>"
      ],
      "text/plain": [
       "                   title                             country  release_year\n",
       "50           10,000 B.C.         United States, South Africa          2008\n",
       "71             16 Blocks              United States, Germany          2006\n",
       "89      24 Hours to Live  South Africa, China, United States          2017\n",
       "96        3 Days to Kill       United States, France, Serbia          2014\n",
       "298         Act of Valor                       United States          2012\n",
       "302     Acts of Violence                              Canada          2018\n",
       "419  All the Devil's Men                      United Kingdom          2018\n",
       "454    American Assassin                       United States          2017\n",
       "518     Angel Has Fallen                       United States          2019\n",
       "634           Avengement                      United Kingdom          2019"
      ]
     },
     "execution_count": 53,
     "metadata": {},
     "output_type": "execute_result"
    }
   ],
   "source": [
    "Action_Adv = data[data['Genre'] == 'Action & Adventure']\n",
    "Action_Adv[['title','country','release_year']].head(10)"
   ]
  },
  {
   "cell_type": "markdown",
   "id": "subjective-entrance",
   "metadata": {},
   "source": [
    "Observation\n",
    "\n",
    "To understand content available in different countries, I randomly selected 3 genres of films to give an overview of movies/tv shows available in different countries. My observation shows kid’s content is available and viewed in many countries such as United States, Italy, Canada, and others in the table above. Also, Horror movie content is viewed mostly in United States, Canada, Thailand, Mexico, and other above. Lastly, Action and Adventure content is mostly viewed in South Africa, Germany, China, United States, and others above."
   ]
  },
  {
   "cell_type": "markdown",
   "id": "sexual-programmer",
   "metadata": {
    "tags": []
   },
   "source": [
    "## Distribution of Oldest and latest movies on netflix"
   ]
  },
  {
   "cell_type": "code",
   "execution_count": 56,
   "id": "operational-lunch",
   "metadata": {},
   "outputs": [
    {
     "data": {
      "text/html": [
       "<div>\n",
       "<style scoped>\n",
       "    .dataframe tbody tr th:only-of-type {\n",
       "        vertical-align: middle;\n",
       "    }\n",
       "\n",
       "    .dataframe tbody tr th {\n",
       "        vertical-align: top;\n",
       "    }\n",
       "\n",
       "    .dataframe thead th {\n",
       "        text-align: right;\n",
       "    }\n",
       "</style>\n",
       "<table border=\"1\" class=\"dataframe\">\n",
       "  <thead>\n",
       "    <tr style=\"text-align: right;\">\n",
       "      <th></th>\n",
       "      <th>title</th>\n",
       "      <th>release_year</th>\n",
       "    </tr>\n",
       "  </thead>\n",
       "  <tbody>\n",
       "    <tr>\n",
       "      <th>4867</th>\n",
       "      <td>Pioneers: First Women Filmmakers*</td>\n",
       "      <td>1925</td>\n",
       "    </tr>\n",
       "    <tr>\n",
       "      <th>6117</th>\n",
       "      <td>The Battle of Midway</td>\n",
       "      <td>1942</td>\n",
       "    </tr>\n",
       "    <tr>\n",
       "      <th>4960</th>\n",
       "      <td>Prelude to War</td>\n",
       "      <td>1942</td>\n",
       "    </tr>\n",
       "    <tr>\n",
       "      <th>7679</th>\n",
       "      <td>WWII: Report from the Aleutians</td>\n",
       "      <td>1943</td>\n",
       "    </tr>\n",
       "    <tr>\n",
       "      <th>7342</th>\n",
       "      <td>Undercover: How to Operate Behind Enemy Lines</td>\n",
       "      <td>1943</td>\n",
       "    </tr>\n",
       "  </tbody>\n",
       "</table>\n",
       "</div>"
      ],
      "text/plain": [
       "                                              title  release_year\n",
       "4867              Pioneers: First Women Filmmakers*          1925\n",
       "6117                           The Battle of Midway          1942\n",
       "4960                                 Prelude to War          1942\n",
       "7679                WWII: Report from the Aleutians          1943\n",
       "7342  Undercover: How to Operate Behind Enemy Lines          1943"
      ]
     },
     "execution_count": 56,
     "metadata": {},
     "output_type": "execute_result"
    }
   ],
   "source": [
    "oldest = data.sort_values(by = 'release_year', ascending = True)\n",
    "oldest[['title','release_year']][:5]"
   ]
  },
  {
   "cell_type": "code",
   "execution_count": 58,
   "id": "unknown-basin",
   "metadata": {},
   "outputs": [
    {
     "data": {
      "text/html": [
       "<div>\n",
       "<style scoped>\n",
       "    .dataframe tbody tr th:only-of-type {\n",
       "        vertical-align: middle;\n",
       "    }\n",
       "\n",
       "    .dataframe tbody tr th {\n",
       "        vertical-align: top;\n",
       "    }\n",
       "\n",
       "    .dataframe thead th {\n",
       "        text-align: right;\n",
       "    }\n",
       "</style>\n",
       "<table border=\"1\" class=\"dataframe\">\n",
       "  <thead>\n",
       "    <tr style=\"text-align: right;\">\n",
       "      <th></th>\n",
       "      <th>title</th>\n",
       "      <th>release_year</th>\n",
       "    </tr>\n",
       "  </thead>\n",
       "  <tbody>\n",
       "    <tr>\n",
       "      <th>2327</th>\n",
       "      <td>Gabby's Dollhouse</td>\n",
       "      <td>2021</td>\n",
       "    </tr>\n",
       "    <tr>\n",
       "      <th>4468</th>\n",
       "      <td>Night Stalker: The Hunt for a Serial Killer</td>\n",
       "      <td>2021</td>\n",
       "    </tr>\n",
       "    <tr>\n",
       "      <th>2753</th>\n",
       "      <td>History of Swear Words</td>\n",
       "      <td>2021</td>\n",
       "    </tr>\n",
       "    <tr>\n",
       "      <th>5103</th>\n",
       "      <td>Ratones Paranoicos: The Band that Rocked Argen...</td>\n",
       "      <td>2021</td>\n",
       "    </tr>\n",
       "    <tr>\n",
       "      <th>1355</th>\n",
       "      <td>Chris Rock Total Blackout: The Tamborine Exten...</td>\n",
       "      <td>2021</td>\n",
       "    </tr>\n",
       "  </tbody>\n",
       "</table>\n",
       "</div>"
      ],
      "text/plain": [
       "                                                  title  release_year\n",
       "2327                                  Gabby's Dollhouse          2021\n",
       "4468        Night Stalker: The Hunt for a Serial Killer          2021\n",
       "2753                             History of Swear Words          2021\n",
       "5103  Ratones Paranoicos: The Band that Rocked Argen...          2021\n",
       "1355  Chris Rock Total Blackout: The Tamborine Exten...          2021"
      ]
     },
     "execution_count": 58,
     "metadata": {},
     "output_type": "execute_result"
    }
   ],
   "source": [
    "latest = data.sort_values(by = 'release_year', ascending = False)\n",
    "latest[['title','release_year']][:5]"
   ]
  },
  {
   "cell_type": "markdown",
   "id": "congressional-awareness",
   "metadata": {},
   "source": [
    "Observation\n",
    "\n",
    "This table above shows Netflix’s oldest movie to be 'Pioneers: First Women Filmmakers*’ and was released in 1925. while Netflix’s latest movie is 'Gabby's Dollhouse' released in 2021."
   ]
  },
  {
   "cell_type": "markdown",
   "id": "dutch-message",
   "metadata": {},
   "source": [
    "## Distribution of movies/tv shows added to Netflix monthly and over the years"
   ]
  },
  {
   "cell_type": "code",
   "execution_count": 33,
   "id": "arabic-implement",
   "metadata": {},
   "outputs": [
    {
     "data": {
      "text/html": [
       "<div>\n",
       "<style scoped>\n",
       "    .dataframe tbody tr th:only-of-type {\n",
       "        vertical-align: middle;\n",
       "    }\n",
       "\n",
       "    .dataframe tbody tr th {\n",
       "        vertical-align: top;\n",
       "    }\n",
       "\n",
       "    .dataframe thead th {\n",
       "        text-align: right;\n",
       "    }\n",
       "</style>\n",
       "<table border=\"1\" class=\"dataframe\">\n",
       "  <thead>\n",
       "    <tr style=\"text-align: right;\">\n",
       "      <th></th>\n",
       "      <th>show_id</th>\n",
       "      <th>type</th>\n",
       "      <th>title</th>\n",
       "      <th>country</th>\n",
       "      <th>date_added</th>\n",
       "      <th>release_year</th>\n",
       "      <th>rating</th>\n",
       "      <th>duration</th>\n",
       "      <th>Genre</th>\n",
       "      <th>year_added</th>\n",
       "      <th>month_added</th>\n",
       "    </tr>\n",
       "  </thead>\n",
       "  <tbody>\n",
       "    <tr>\n",
       "      <th>0</th>\n",
       "      <td>s1</td>\n",
       "      <td>TV Show</td>\n",
       "      <td>3%</td>\n",
       "      <td>Brazil</td>\n",
       "      <td>August 14, 2020</td>\n",
       "      <td>2020</td>\n",
       "      <td>TV-MA</td>\n",
       "      <td>4 Seasons</td>\n",
       "      <td>International TV Shows, TV Dramas, TV Sci-Fi &amp;...</td>\n",
       "      <td>2020</td>\n",
       "      <td>August</td>\n",
       "    </tr>\n",
       "    <tr>\n",
       "      <th>1</th>\n",
       "      <td>s2</td>\n",
       "      <td>Movie</td>\n",
       "      <td>7:19</td>\n",
       "      <td>Mexico</td>\n",
       "      <td>December 23, 2016</td>\n",
       "      <td>2016</td>\n",
       "      <td>TV-MA</td>\n",
       "      <td>93 min</td>\n",
       "      <td>Dramas, International Movies</td>\n",
       "      <td>2016</td>\n",
       "      <td>December</td>\n",
       "    </tr>\n",
       "    <tr>\n",
       "      <th>2</th>\n",
       "      <td>s3</td>\n",
       "      <td>Movie</td>\n",
       "      <td>23:59</td>\n",
       "      <td>Singapore</td>\n",
       "      <td>December 20, 2018</td>\n",
       "      <td>2011</td>\n",
       "      <td>R</td>\n",
       "      <td>78 min</td>\n",
       "      <td>Horror Movies, International Movies</td>\n",
       "      <td>2018</td>\n",
       "      <td>December</td>\n",
       "    </tr>\n",
       "    <tr>\n",
       "      <th>3</th>\n",
       "      <td>s4</td>\n",
       "      <td>Movie</td>\n",
       "      <td>9</td>\n",
       "      <td>United States</td>\n",
       "      <td>November 16, 2017</td>\n",
       "      <td>2009</td>\n",
       "      <td>PG-13</td>\n",
       "      <td>80 min</td>\n",
       "      <td>Action &amp; Adventure, Independent Movies, Sci-Fi...</td>\n",
       "      <td>2017</td>\n",
       "      <td>November</td>\n",
       "    </tr>\n",
       "    <tr>\n",
       "      <th>4</th>\n",
       "      <td>s5</td>\n",
       "      <td>Movie</td>\n",
       "      <td>21</td>\n",
       "      <td>United States</td>\n",
       "      <td>January 1, 2020</td>\n",
       "      <td>2008</td>\n",
       "      <td>PG-13</td>\n",
       "      <td>123 min</td>\n",
       "      <td>Dramas</td>\n",
       "      <td>2020</td>\n",
       "      <td>January</td>\n",
       "    </tr>\n",
       "  </tbody>\n",
       "</table>\n",
       "</div>"
      ],
      "text/plain": [
       "  show_id     type  title        country         date_added  release_year  \\\n",
       "0      s1  TV Show     3%         Brazil    August 14, 2020          2020   \n",
       "1      s2    Movie   7:19         Mexico  December 23, 2016          2016   \n",
       "2      s3    Movie  23:59      Singapore  December 20, 2018          2011   \n",
       "3      s4    Movie      9  United States  November 16, 2017          2009   \n",
       "4      s5    Movie     21  United States    January 1, 2020          2008   \n",
       "\n",
       "  rating   duration                                              Genre  \\\n",
       "0  TV-MA  4 Seasons  International TV Shows, TV Dramas, TV Sci-Fi &...   \n",
       "1  TV-MA     93 min                       Dramas, International Movies   \n",
       "2      R     78 min                Horror Movies, International Movies   \n",
       "3  PG-13     80 min  Action & Adventure, Independent Movies, Sci-Fi...   \n",
       "4  PG-13    123 min                                             Dramas   \n",
       "\n",
       "  year_added month_added  \n",
       "0       2020      August  \n",
       "1       2016    December  \n",
       "2       2018    December  \n",
       "3       2017    November  \n",
       "4       2020     January  "
      ]
     },
     "execution_count": 33,
     "metadata": {},
     "output_type": "execute_result"
    }
   ],
   "source": [
    "#use lambda function to create year_added and month_added features\n",
    "year_func = lambda x:x.split(',')[-1]\n",
    "data['year_added'] = data['date_added'].apply(year_func)\n",
    "\n",
    "month_func = lambda x:x.split(' ')[0]\n",
    "data['month_added'] = data['date_added'].apply(month_func)\n",
    "\n",
    "data.head()"
   ]
  },
  {
   "cell_type": "code",
   "execution_count": 35,
   "id": "owned-missile",
   "metadata": {},
   "outputs": [
    {
     "data": {
      "text/plain": [
       "Text(0.5, 1.0, 'movies/tv shows added to Netflix monthly')"
      ]
     },
     "execution_count": 35,
     "metadata": {},
     "output_type": "execute_result"
    },
    {
     "data": {
      "image/png": "[encoded data removed]",
      "text/plain": [
       "<Figure size 1656x504 with 2 Axes>"
      ]
     },
     "metadata": {
      "needs_background": "light"
     },
     "output_type": "display_data"
    }
   ],
   "source": [
    "fig, ax = plt.subplots(1,2, figsize = (23, 7))\n",
    "plot1 = sns.countplot('year_added', data = data, ax = ax[0]);\n",
    "plot1.set_title('movies/tv shows added to Netflix over the years')\n",
    "\n",
    "plot2 = sns.countplot(\"month_added\", data = data, order = ['January', 'February', 'March', 'April', 'May', 'June', 'July', 'August', 'September', 'October', 'November', 'December'],\n",
    "                      ax = ax[1]);\n",
    "plot2.set_title('movies/tv shows added to Netflix monthly')"
   ]
  },
  {
   "cell_type": "markdown",
   "id": "acoustic-macro",
   "metadata": {},
   "source": [
    "Observation\n",
    "\n",
    "From my observation in the first plot, 2019 shows the highest number of movies/tv shows added to Netflix over the years, followed by 2020 and 2018. From the second plot, December shows the highest number of movies/tv shows added to Netflix monthly, followed by October and January."
   ]
  },
  {
   "cell_type": "markdown",
   "id": "indirect-parade",
   "metadata": {},
   "source": [
    "## Distribution of movies/tv_shows released yearly on netflix"
   ]
  },
  {
   "cell_type": "code",
   "execution_count": 36,
   "id": "better-destruction",
   "metadata": {},
   "outputs": [
    {
     "data": {
      "text/plain": [
       "<AxesSubplot:xlabel='release_year', ylabel='Density'>"
      ]
     },
     "execution_count": 36,
     "metadata": {},
     "output_type": "execute_result"
    },
    {
     "data": {
      "image/png": "[encoded data removed]",
      "text/plain": [
       "<Figure size 864x576 with 1 Axes>"
      ]
     },
     "metadata": {
      "needs_background": "light"
     },
     "output_type": "display_data"
    }
   ],
   "source": [
    "plt.figure(figsize = (12,8))\n",
    "sns.distplot(data['release_year'], bins = 83)"
   ]
  },
  {
   "cell_type": "markdown",
   "id": "conventional-large",
   "metadata": {},
   "source": [
    "Observation\n",
    "\n",
    "This plot shows Netflix released a high number of movies in the 20s and it’s still growing to date."
   ]
  },
  {
   "cell_type": "markdown",
   "id": "toxic-british",
   "metadata": {},
   "source": [
    "## Netflix growth over the years(Licenced vs Original)"
   ]
  },
  {
   "cell_type": "code",
   "execution_count": 45,
   "id": "peripheral-hungarian",
   "metadata": {},
   "outputs": [
    {
     "data": {
      "text/plain": [
       "<AxesSubplot:xlabel='release_year'>"
      ]
     },
     "execution_count": 45,
     "metadata": {},
     "output_type": "execute_result"
    },
    {
     "data": {
      "image/png": "[encoded data removed]",
      "text/plain": [
       "<Figure size 1224x504 with 1 Axes>"
      ]
     },
     "metadata": {
      "needs_background": "light"
     },
     "output_type": "display_data"
    }
   ],
   "source": [
    "data['year_added'] = data['year_added'].astype('int64')\n",
    "data['release_year'] = data['release_year'].astype('int64')\n",
    "data['Licence_Original'] = data['release_year'] == data['year_added']\n",
    "a = {True : 'Original', False:'Licence'}\n",
    "\n",
    "data['Licence_Original'] = data['Licence_Original'].map(a)\n",
    "pivot = data[data['release_year'] > 2008].pivot_table('show_id', index = 'release_year', columns ='Licence_Original', aggfunc ='count')\n",
    "pivot.plot(kind='bar',figsize=(17, 7))"
   ]
  },
  {
   "cell_type": "markdown",
   "id": "close-pasta",
   "metadata": {},
   "source": [
    "Observation\n",
    "\n",
    "Growth of Netflix over the years, let’s assume that the 'release_year' are the years that Netflix released its original movie/shows. while 'date_added' are movies/shows added to Netflix i.e. Netflix acquired a license for the movies to be viewed on Netflix \n",
    "\n",
    "This shows Netflix’s original films started way back in the 20s but it has been constantly increasing since 2014 till date. Interestingly, Netflix has grown strong and now it is producing its own shows more.\n"
   ]
  },
  {
   "cell_type": "code",
   "execution_count": null,
   "id": "beginning-pitch",
   "metadata": {},
   "outputs": [],
   "source": []
  },
  {
   "cell_type": "code",
   "execution_count": null,
   "id": "funded-questionnaire",
   "metadata": {},
   "outputs": [],
   "source": []
  }
 ],
 "metadata": {
  "kernelspec": {
   "display_name": "Python 3",
   "language": "python",
   "name": "python3"
  },
  "language_info": {
   "codemirror_mode": {
    "name": "ipython",
    "version": 3
   },
   "file_extension": ".py",
   "mimetype": "text/x-python",
   "name": "python",
   "nbconvert_exporter": "python",
   "pygments_lexer": "ipython3",
   "version": "3.8.2"
  }
 },
 "nbformat": 4,
 "nbformat_minor": 5
}
